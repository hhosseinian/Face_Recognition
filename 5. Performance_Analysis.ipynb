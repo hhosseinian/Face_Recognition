{
  "cells": [
    {
      "cell_type": "markdown",
      "metadata": {
        "id": "9H00biTE4OTk"
      },
      "source": [
        "## Performance Analysis\n",
        "\n",
        "In this notebook, we will compare the performance of various neural network models, focusing on hyperparameter tuning and optimization strategies.\n",
        "\n",
        "### Step 1: Visualize and Save Model Architecture\n",
        "\n",
        "To start, we will visualize and save the architecture of our neural network models using TensorBoard. This will help us understand the structure of our models and monitor their training progress.\n",
        "\n",
        "Here’s how we will proceed:\n",
        "\n",
        "1. **Import TensorBoard**: Use the `torch.utils.tensorboard` module to set up TensorBoard.\n",
        "2. **Create a Summary Writer**: Initialize a TensorBoard `SummaryWriter` to log the model architecture.\n",
        "3. **Visualize the Model**: Pass a dummy input through the model and use TensorBoard to visualize the architecture.\n",
        "4. **Save the Visualization**: Save the visualization to disk for later review.\n"
      ]
    },
    {
      "cell_type": "code",
      "execution_count": 1,
      "metadata": {
        "colab": {
          "base_uri": "https://localhost:8080/",
          "height": 669
        },
        "id": "BpC_1AXw4OTn",
        "outputId": "de93e4ee-7f33-4a71-b39b-0f0c90743ff3"
      },
      "outputs": [
        {
          "name": "stdout",
          "output_type": "stream",
          "text": [
            "--2024-08-07 23:41:19--  https://raw.githubusercontent.com//hhosseinian/Face_Recognition/main/Models1.py\n",
            "Resolving raw.githubusercontent.com (raw.githubusercontent.com)... 185.199.109.133, 185.199.111.133, 185.199.110.133, ...\n",
            "Connecting to raw.githubusercontent.com (raw.githubusercontent.com)|185.199.109.133|:443... connected.\n",
            "HTTP request sent, awaiting response... 301 Moved Permanently\n",
            "Location: /hhosseinian/Face_Recognition/main/Models1.py [following]\n",
            "--2024-08-07 23:41:22--  https://raw.githubusercontent.com/hhosseinian/Face_Recognition/main/Models1.py\n",
            "Reusing existing connection to raw.githubusercontent.com:443.\n",
            "HTTP request sent, awaiting response... 200 OK\n",
            "Length: 3601 (3.5K) [text/plain]\n",
            "Saving to: ‘Models1.py’\n",
            "\n",
            "Models1.py          100%[===================>]   3.52K  --.-KB/s    in 0s      \n",
            "\n",
            "2024-08-07 23:41:22 (16.0 MB/s) - ‘Models1.py’ saved [3601/3601]\n",
            "\n"
          ]
        },
        {
          "ename": "ModuleNotFoundError",
          "evalue": "No module named 'netron'",
          "output_type": "error",
          "traceback": [
            "\u001b[0;31m---------------------------------------------------------------------------\u001b[0m",
            "\u001b[0;31mModuleNotFoundError\u001b[0m                       Traceback (most recent call last)",
            "\u001b[0;32m<ipython-input-1-aca2cbc834da>\u001b[0m in \u001b[0;36m<module>\u001b[0;34m\u001b[0m\n\u001b[1;32m      5\u001b[0m \u001b[0;32mimport\u001b[0m \u001b[0mtorch\u001b[0m\u001b[0;34m.\u001b[0m\u001b[0mnn\u001b[0m \u001b[0;32mas\u001b[0m \u001b[0mnn\u001b[0m\u001b[0;34m\u001b[0m\u001b[0;34m\u001b[0m\u001b[0m\n\u001b[1;32m      6\u001b[0m \u001b[0;32mfrom\u001b[0m \u001b[0mModels1\u001b[0m \u001b[0;32mimport\u001b[0m \u001b[0mNet\u001b[0m\u001b[0;34m\u001b[0m\u001b[0;34m\u001b[0m\u001b[0m\n\u001b[0;32m----> 7\u001b[0;31m \u001b[0;32mimport\u001b[0m \u001b[0mnetron\u001b[0m\u001b[0;34m\u001b[0m\u001b[0;34m\u001b[0m\u001b[0m\n\u001b[0m\u001b[1;32m      8\u001b[0m \u001b[0mmodel\u001b[0m \u001b[0;34m=\u001b[0m \u001b[0mNet\u001b[0m\u001b[0;34m(\u001b[0m\u001b[0;34m)\u001b[0m\u001b[0;34m\u001b[0m\u001b[0;34m\u001b[0m\u001b[0m\n\u001b[1;32m      9\u001b[0m \u001b[0;31m# Create a dummy input tensor with the correct size\u001b[0m\u001b[0;34m\u001b[0m\u001b[0;34m\u001b[0m\u001b[0;34m\u001b[0m\u001b[0m\n",
            "\u001b[0;31mModuleNotFoundError\u001b[0m: No module named 'netron'"
          ]
        }
      ],
      "source": [
        "#%pip install netron #Uncomment for the first time running the session on colab\n",
        "!rm -rf Models1.py # Uncomment this line for Running over Collab\n",
        "!wget https://raw.githubusercontent.com//hhosseinian/Face_Recognition/main/Models1.py # Uncomment this line for Running over Collab\n",
        "import torch\n",
        "import torch.nn as nn\n",
        "from Models1 import Net\n",
        "import netron\n",
        "model = Net()\n",
        "# Create a dummy input tensor with the correct size\n",
        "dummy_input = torch.randn(1, 1, 244, 244)\n",
        "# Save the model to ONNX format\n",
        "torch.onnx.export(model, dummy_input, \"model.onnx\")\n",
        "\n",
        "# Visualize the model\n",
        "netron.start(\"model.onnx\")\n"
      ]
    },
    {
      "cell_type": "code",
      "execution_count": null,
      "metadata": {
        "colab": {
          "base_uri": "https://localhost:8080/"
        },
        "id": "ciaw5tTE-vP3",
        "outputId": "b24c6f82-794b-4955-d0f9-7c179093b04e"
      },
      "outputs": [
        {
          "name": "stdout",
          "output_type": "stream",
          "text": [
            "Flattened size: 30976\n",
            "Model architecture visualization saved to TensorBoard.\n"
          ]
        }
      ],
      "source": [
        "from torchviz import make_dot\n",
        "import torch\n",
        "import torch.nn as nn\n",
        "import torch.nn.functional as F\n",
        "\n",
        "class Net(nn.Module):\n",
        "    def __init__(self):\n",
        "        super(Net, self).__init__()\n",
        "\n",
        "        self.conv1 = nn.Conv2d(1, 32, 5)\n",
        "        self.pool1 = nn.MaxPool2d(2,2)\n",
        "        self.bn1 = nn.BatchNorm2d(32)\n",
        "\n",
        "        self.conv2 = nn.Conv2d(32, 64, 5)\n",
        "        self.pool2 = nn.MaxPool2d(2,2)\n",
        "        self.bn2 = nn.BatchNorm2d(64)\n",
        "\n",
        "        self.conv3 = nn.Conv2d(64, 128, 5)\n",
        "        self.pool3 = nn.MaxPool2d(2,2)\n",
        "        self.bn3 = nn.BatchNorm2d(128)\n",
        "\n",
        "        self.conv4 = nn.Conv2d(128, 256, 5)\n",
        "        self.pool4 = nn.MaxPool2d(2,2)\n",
        "        self.bn4 = nn.BatchNorm2d(256)\n",
        "\n",
        "        # To be calculated\n",
        "        self.fc1 = nn.Linear(256 * 11 * 11, 2000)\n",
        "        self.fc_norm1 = nn.BatchNorm1d(2000)\n",
        "        self.fc2 = nn.Linear(2000, 1000)\n",
        "        self.fc_norm2 = nn.BatchNorm1d(1000)\n",
        "        self.fc3 = nn.Linear(1000, 136)\n",
        "\n",
        "    def forward(self, x):\n",
        "        x = F.relu(self.bn1(self.pool1(self.conv1(x))))\n",
        "        x = F.relu(self.bn2(self.pool2(self.conv2(x))))\n",
        "        x = F.relu(self.bn3(self.pool3(self.conv3(x))))\n",
        "        x = F.relu(self.bn4(self.pool4(self.conv4(x))))\n",
        "\n",
        "        x = x.view(x.size(0), -1)\n",
        "        x = F.relu(self.fc_norm1(self.fc1(x)))\n",
        "        x = F.relu(self.fc_norm2(self.fc2(x)))\n",
        "        x = self.fc3(x)\n",
        "        return x\n",
        "\n",
        "# Create a dummy input tensor\n",
        "dummy_input = torch.randn(1, 1, 244, 244)\n",
        "\n",
        "# Initialize the model\n",
        "model = Net()\n",
        "\n",
        "# Perform a forward pass to calculate the flattened size\n",
        "with torch.no_grad():\n",
        "    x = dummy_input\n",
        "    x = F.relu(model.bn1(model.pool1(model.conv1(x))))\n",
        "    x = F.relu(model.bn2(model.pool2(model.conv2(x))))\n",
        "    x = F.relu(model.bn3(model.pool3(model.conv3(x))))\n",
        "    x = F.relu(model.bn4(model.pool4(model.conv4(x))))\n",
        "\n",
        "    # Print the size of the flattened tensor\n",
        "    flattened_size = x.numel()\n",
        "    print(f\"Flattened size: {flattened_size}\")\n",
        "\n",
        "# Update the model with the correct input size\n",
        "model.fc1 = nn.Linear(flattened_size, 2000)\n",
        "\n",
        "# Verify if the model works with TensorBoard\n",
        "from torch.utils.tensorboard import SummaryWriter\n",
        "\n",
        "# Set up TensorBoard SummaryWriter\n",
        "writer = SummaryWriter()\n",
        "\n",
        "# Visualize the model\n",
        "try:\n",
        "    writer.add_graph(model, dummy_input)\n",
        "finally:\n",
        "    # Close the writer\n",
        "    writer.close()\n",
        "\n",
        "print(\"Model architecture visualization saved to TensorBoard.\")\n",
        "\n",
        "# Generate the visualization\n",
        "dot = make_dot(output, params=dict(model.named_parameters()))\n",
        "\n",
        "# Save the visualization as PNG\n",
        "dot.format = 'png'\n",
        "dot.render(filename='/content/model_architecture')\n"
      ]
    },
    {
      "cell_type": "markdown",
      "metadata": {},
      "source": [
        "## Performance of the Network without Dropout Layers (Model1.py):\n",
        "![Image](images/Model1_Performance_20Epoch.png)\n",
        "## Performance of the Network with Dropout Layers (Model3.py):\n",
        "![Image](images/Model3_Performance_20Epoch.png)\n"
      ]
    }
  ],
  "metadata": {
    "colab": {
      "provenance": []
    },
    "kernelspec": {
      "display_name": "Python 3",
      "language": "python",
      "name": "python3"
    },
    "language_info": {
      "codemirror_mode": {
        "name": "ipython",
        "version": 3
      },
      "file_extension": ".py",
      "mimetype": "text/x-python",
      "name": "python",
      "nbconvert_exporter": "python",
      "pygments_lexer": "ipython3",
      "version": "3.9.4"
    }
  },
  "nbformat": 4,
  "nbformat_minor": 0
}
